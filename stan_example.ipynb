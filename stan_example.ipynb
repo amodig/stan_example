{
 "cells": [
  {
   "cell_type": "code",
   "execution_count": null,
   "metadata": {
    "scrolled": true
   },
   "outputs": [
    {
     "name": "stdout",
     "output_type": "stream",
     "text": [
      "Arttu Modig 2017-08-22 15:15:41 \n",
      "\n",
      "CPython 3.6.2\n",
      "IPython 6.1.0\n",
      "\n",
      "numpy 1.13.1\n",
      "pandas 0.20.3\n",
      "seaborn 0.8.0\n",
      "matplotlib 2.0.2\n",
      "pystan 2.16.0.1dev\n",
      "notebook 5.0.0\n",
      "\n",
      "compiler   : GCC 4.2.1 Compatible Apple LLVM 6.0 (clang-600.0.57)\n",
      "system     : Darwin\n",
      "release    : 16.7.0\n",
      "machine    : x86_64\n",
      "processor  : i386\n",
      "CPU cores  : 8\n",
      "interpreter: 64bit\n"
     ]
    }
   ],
   "source": [
    "%matplotlib inline\n",
    "%load_ext watermark\n",
    "%watermark -a 'Arttu Modig' -v -m -d -t -p numpy,pandas,seaborn,matplotlib,pystan,notebook"
   ]
  },
  {
   "cell_type": "code",
   "execution_count": null,
   "metadata": {
    "collapsed": true
   },
   "outputs": [],
   "source": [
    "import numpy as np\n",
    "import pandas as pd\n",
    "import matplotlib.pyplot as plt\n",
    "import pystan"
   ]
  },
  {
   "cell_type": "code",
   "execution_count": null,
   "metadata": {},
   "outputs": [
    {
     "data": {
      "text/plain": [
       "'/Users/amodig/git/R/stan'"
      ]
     },
     "execution_count": 3,
     "metadata": {},
     "output_type": "execute_result"
    }
   ],
   "source": [
    "%pwd"
   ]
  },
  {
   "cell_type": "code",
   "execution_count": null,
   "metadata": {
    "collapsed": true
   },
   "outputs": [],
   "source": [
    "data = pd.read_csv(\"data_sales_grouped.csv\")"
   ]
  },
  {
   "cell_type": "code",
   "execution_count": null,
   "metadata": {
    "scrolled": true
   },
   "outputs": [
    {
     "data": {
      "text/html": [
       "<div>\n",
       "<style>\n",
       "    .dataframe thead tr:only-child th {\n",
       "        text-align: right;\n",
       "    }\n",
       "\n",
       "    .dataframe thead th {\n",
       "        text-align: left;\n",
       "    }\n",
       "\n",
       "    .dataframe tbody tr th {\n",
       "        vertical-align: top;\n",
       "    }\n",
       "</style>\n",
       "<table border=\"1\" class=\"dataframe\">\n",
       "  <thead>\n",
       "    <tr style=\"text-align: right;\">\n",
       "      <th></th>\n",
       "      <th>group</th>\n",
       "      <th>revenue</th>\n",
       "      <th>count</th>\n",
       "      <th>label</th>\n",
       "    </tr>\n",
       "  </thead>\n",
       "  <tbody>\n",
       "    <tr>\n",
       "      <th>0</th>\n",
       "      <td>control</td>\n",
       "      <td>0.0</td>\n",
       "      <td>38314</td>\n",
       "      <td>1</td>\n",
       "    </tr>\n",
       "    <tr>\n",
       "      <th>1</th>\n",
       "      <td>control</td>\n",
       "      <td>1.0</td>\n",
       "      <td>4596</td>\n",
       "      <td>1</td>\n",
       "    </tr>\n",
       "    <tr>\n",
       "      <th>2</th>\n",
       "      <td>control</td>\n",
       "      <td>1.1</td>\n",
       "      <td>118</td>\n",
       "      <td>1</td>\n",
       "    </tr>\n",
       "    <tr>\n",
       "      <th>3</th>\n",
       "      <td>control</td>\n",
       "      <td>1.2</td>\n",
       "      <td>245</td>\n",
       "      <td>1</td>\n",
       "    </tr>\n",
       "    <tr>\n",
       "      <th>4</th>\n",
       "      <td>control</td>\n",
       "      <td>1.3</td>\n",
       "      <td>155</td>\n",
       "      <td>1</td>\n",
       "    </tr>\n",
       "  </tbody>\n",
       "</table>\n",
       "</div>"
      ],
      "text/plain": [
       "     group  revenue  count  label\n",
       "0  control      0.0  38314      1\n",
       "1  control      1.0   4596      1\n",
       "2  control      1.1    118      1\n",
       "3  control      1.2    245      1\n",
       "4  control      1.3    155      1"
      ]
     },
     "execution_count": 5,
     "metadata": {},
     "output_type": "execute_result"
    }
   ],
   "source": [
    "data.head()"
   ]
  },
  {
   "cell_type": "markdown",
   "metadata": {},
   "source": [
    "### Legacy model for A/B testing"
   ]
  },
  {
   "cell_type": "code",
   "execution_count": null,
   "metadata": {},
   "outputs": [
    {
     "name": "stdout",
     "output_type": "stream",
     "text": [
      "data {\r\n",
      "  int<lower=0> N;\r\n",
      "  vector[N] y;\r\n",
      "  int<lower=0, upper=2> x[N];  // bernoulli outcome\r\n",
      "  vector[N] count;\r\n",
      "}\r\n",
      "transformed data {\r\n",
      "}\r\n",
      "parameters {\r\n",
      "  vector[2] mu;\r\n",
      "  vector<lower=0, upper=10>[2] sigma;  // lognormal sigma\r\n",
      "  vector<lower=0, upper=1>[2] theta;  // bernoulli prob\r\n",
      "}\r\n",
      "model {\r\n",
      "  mu ~ normal(2, 10);\r\n",
      "\r\n",
      "  for (n in 1:N) {\r\n",
      "    if (y[n] > 0)\r\n",
      "      target += count[n] * (bernoulli_lpmf(0 | theta[x[n]])\r\n",
      "                        + lognormal_lpdf(y[n] | mu[x[n]], sigma[x[n]]));\r\n",
      "    else\r\n",
      "      target += count[n] * bernoulli_lpmf(1 | theta[x[n]]);\r\n",
      "  }\r\n",
      "}\r\n",
      "generated quantities {\r\n",
      "  real pctrl ;\r\n",
      "  real test ;\r\n",
      "\r\n",
      "  // mean of log-normal distribution\r\n",
      "  pctrl = exp(mu[1] + 0.5 * sigma[1] * sigma[1]);\r\n",
      "  test = exp(mu[2] + 0.5 * sigma[2] * sigma[2]);\r\n",
      "}\r\n"
     ]
    }
   ],
   "source": [
    "!cat legacy_updated.stan"
   ]
  },
  {
   "cell_type": "code",
   "execution_count": null,
   "metadata": {},
   "outputs": [
    {
     "name": "stderr",
     "output_type": "stream",
     "text": [
      "INFO:pystan:COMPILING THE C++ CODE FOR MODEL legacy_29467b2cb2e4729c84d332a69caf73c9 NOW.\n",
      "INFO:pystan:OS: darwin, Python: 3.6.2 |Anaconda custom (x86_64)| (default, Jul 20 2017, 13:14:59) \n",
      "[GCC 4.2.1 Compatible Apple LLVM 6.0 (clang-600.0.57)], Cython 0.26\n"
     ]
    },
    {
     "name": "stdout",
     "output_type": "stream",
     "text": [
      "Compiling /var/folders/86/339xc0ws0nb5dtltnvzh88dw0000gn/T/tmpwbzu5vo9/stanfit4legacy_29467b2cb2e4729c84d332a69caf73c9_8450968173468185260.pyx because it changed.\n",
      "[1/1] Cythonizing /var/folders/86/339xc0ws0nb5dtltnvzh88dw0000gn/T/tmpwbzu5vo9/stanfit4legacy_29467b2cb2e4729c84d332a69caf73c9_8450968173468185260.pyx\n",
      "building 'stanfit4legacy_29467b2cb2e4729c84d332a69caf73c9_8450968173468185260' extension\n",
      "creating /var/folders/86/339xc0ws0nb5dtltnvzh88dw0000gn/T/tmpwbzu5vo9/var\n",
      "creating /var/folders/86/339xc0ws0nb5dtltnvzh88dw0000gn/T/tmpwbzu5vo9/var/folders\n",
      "creating /var/folders/86/339xc0ws0nb5dtltnvzh88dw0000gn/T/tmpwbzu5vo9/var/folders/86\n",
      "creating /var/folders/86/339xc0ws0nb5dtltnvzh88dw0000gn/T/tmpwbzu5vo9/var/folders/86/339xc0ws0nb5dtltnvzh88dw0000gn\n",
      "creating /var/folders/86/339xc0ws0nb5dtltnvzh88dw0000gn/T/tmpwbzu5vo9/var/folders/86/339xc0ws0nb5dtltnvzh88dw0000gn/T\n",
      "creating /var/folders/86/339xc0ws0nb5dtltnvzh88dw0000gn/T/tmpwbzu5vo9/var/folders/86/339xc0ws0nb5dtltnvzh88dw0000gn/T/tmpwbzu5vo9\n",
      "llvm-gcc -Wno-unused-result -Wsign-compare -Wunreachable-code -DNDEBUG -g -fwrapv -O3 -Wall -Wstrict-prototypes -I/Users/amodig/anaconda/include -I/Users/amodig/anaconda/include -arch x86_64 -DBOOST_RESULT_OF_USE_TR1 -DBOOST_NO_DECLTYPE -DBOOST_DISABLE_ASSERTS -I/var/folders/86/339xc0ws0nb5dtltnvzh88dw0000gn/T/tmpwbzu5vo9 -I/Users/amodig/anaconda/lib/python3.6/site-packages/pystan -I/Users/amodig/anaconda/lib/python3.6/site-packages/pystan/stan/src -I/Users/amodig/anaconda/lib/python3.6/site-packages/pystan/stan/lib/stan_math -I/Users/amodig/anaconda/lib/python3.6/site-packages/pystan/stan/lib/stan_math/lib/eigen_3.3.3 -I/Users/amodig/anaconda/lib/python3.6/site-packages/pystan/stan/lib/stan_math/lib/boost_1.62.0 -I/Users/amodig/anaconda/lib/python3.6/site-packages/pystan/stan/lib/stan_math/lib/cvodes_2.9.0/include -I/Users/amodig/anaconda/lib/python3.6/site-packages/numpy/core/include -I/Users/amodig/anaconda/include/python3.6m -c /var/folders/86/339xc0ws0nb5dtltnvzh88dw0000gn/T/tmpwbzu5vo9/stanfit4legacy_29467b2cb2e4729c84d332a69caf73c9_8450968173468185260.cpp -o /var/folders/86/339xc0ws0nb5dtltnvzh88dw0000gn/T/tmpwbzu5vo9/var/folders/86/339xc0ws0nb5dtltnvzh88dw0000gn/T/tmpwbzu5vo9/stanfit4legacy_29467b2cb2e4729c84d332a69caf73c9_8450968173468185260.o -O2 -ftemplate-depth-256 -Wno-unused-function -Wno-uninitialized\n",
      "g++ -bundle -undefined dynamic_lookup -L/Users/amodig/anaconda/lib -L/Users/amodig/anaconda/lib -arch x86_64 /var/folders/86/339xc0ws0nb5dtltnvzh88dw0000gn/T/tmpwbzu5vo9/var/folders/86/339xc0ws0nb5dtltnvzh88dw0000gn/T/tmpwbzu5vo9/stanfit4legacy_29467b2cb2e4729c84d332a69caf73c9_8450968173468185260.o -L/Users/amodig/anaconda/lib -o /var/folders/86/339xc0ws0nb5dtltnvzh88dw0000gn/T/tmpwbzu5vo9/stanfit4legacy_29467b2cb2e4729c84d332a69caf73c9_8450968173468185260.cpython-36m-darwin.so\n"
     ]
    }
   ],
   "source": [
    "iterations = 10000\n",
    "chains = 8\n",
    "iterations_total = iterations * chains\n",
    "\n",
    "model_data = {\"N\": data.shape[0],\n",
    "              \"y\": data['revenue'].astype(float).values,\n",
    "              \"x\": data['label'].astype(int).values,\n",
    "              \"count\": data['count'].astype(int).values}\n",
    "\n",
    "fit = pystan.stan(file=\"legacy_updated.stan\", model_name=\"legacy\",\n",
    "                  data=model_data, iter=iterations, chains=chains,\n",
    "                  n_jobs=-1, verbose=True)\n",
    "\n",
    "theta_0 = fit.extract()['theta'][:,0]\n",
    "theta_1 = fit.extract()['theta'][:,1]\n",
    "conversion_0 = 1 - theta_0\n",
    "conversion_1 = 1 - theta_1\n",
    "k0 = np.round(np.average(conversion_0) * 100, decimals=1)\n",
    "k1 = np.round(np.average(conversion_1) * 100, decimals=1)\n",
    "ctrl_revenue = fit.extract()['pctrl'] * conversion_0\n",
    "test_revenue = fit.extract()['test'] * conversion_1\n",
    "\n",
    "# collect results\n",
    "results_all = {}\n",
    "results_all['n'] = data['count'].sum()\n",
    "results_all['test_revenue'] = test_revenue\n",
    "results_all['ctrl_revenue'] = ctrl_revenue\n",
    "results_all['k0'] = k0\n",
    "results_all['k1'] = k1"
   ]
  },
  {
   "cell_type": "code",
   "execution_count": null,
   "metadata": {},
   "outputs": [
    {
     "data": {
      "text/plain": [
       "<matplotlib.text.Text at 0x119818f60>"
      ]
     },
     "execution_count": 8,
     "metadata": {},
     "output_type": "execute_result"
    },
    {
     "data": {
      "image/png": "[encoded data removed]",
      "text/plain": [
       "<matplotlib.figure.Figure at 0x119c6c828>"
      ]
     },
     "metadata": {},
     "output_type": "display_data"
    }
   ],
   "source": [
    "fig, ax = plt.subplots()\n",
    "\n",
    "ax.hist((test_revenue), bins=100, alpha=0.85, label=\"test\")\n",
    "ax.hist((ctrl_revenue), bins=100, alpha=0.65, label=\"ctrl\")\n",
    "\n",
    "ax.set_title(\"Posterior samples of log-normal mean\")\n",
    "plt.axvline(test_revenue.mean(), color='#FF8400', linestyle='dashed', linewidth=2)\n",
    "plt.axvline(ctrl_revenue.mean(), color='#FF8400', linestyle='dashed', linewidth=2)\n",
    "ax.set_yticklabels([])\n",
    "ax.set_xlabel(\"revenue\")\n",
    "ax.legend()\n",
    "x_axis = ax.get_xlim()[1] - ax.get_xlim()[0]\n",
    "y_axis = ax.get_ylim()[1] - ax.get_ylim()[0]\n",
    "width = plt.xlim()[0] + (x_axis * 0.02)\n",
    "height = ax.get_ylim()[1]\n",
    "font_height = y_axis * 0.04\n",
    "ax.spines[\"top\"].set_visible(False)\n",
    "ax.spines[\"right\"].set_visible(False)\n",
    "ax.spines[\"left\"].set_visible(False)\n",
    "ax.spines[\"bottom\"].set_visible(False)\n",
    "\n",
    "ax.text(width, height - font_height*1.3, 'Testiryhmän konversio: {} %'.format(k1).replace('.', ','), fontsize=11)\n",
    "ax.text(width, height - font_height*2.3, 'Kontrolliryhmän konversio: {} %'.format(k0).replace('.', ','), fontsize=11)\n",
    "ax.text(width, height - font_height*3.3, 'Otantakoko = {0:,}'.format(data['count'].sum()).replace(',', ' '), fontsize=11)    \n",
    "ax.text(width, height - font_height*4.3, 'Iteraatioita = {0:,}'.format(iterations_total).replace(',', ' '), fontsize=11)\n",
    "ax.text(test_revenue.mean()+0.02*x_axis, 0.05*height, '{0:.2f}'.format(test_revenue.mean()), color='#ff7700', fontsize=12)\n",
    "ax.text(ctrl_revenue.mean()+0.02*x_axis, 0.05*height, '{0:.2f}'.format(ctrl_revenue.mean()), color='#ff7700', fontsize=12)"
   ]
  },
  {
   "cell_type": "markdown",
   "metadata": {},
   "source": [
    "### New model for A/B/C/D/etc. testing"
   ]
  },
  {
   "cell_type": "code",
   "execution_count": null,
   "metadata": {},
   "outputs": [
    {
     "name": "stdout",
     "output_type": "stream",
     "text": [
      "functions {\r\n",
      "  real lognormal_mean(real mu, real sigma) {\r\n",
      "    return exp(mu + 0.5 * sigma * sigma);\r\n",
      "  }\r\n",
      "  real lognormal_sd(real mu, real sigma) {\r\n",
      "    real a;\r\n",
      "    real b;\r\n",
      "    a = exp(sigma * sigma) - 1;\r\n",
      "    b = exp(2 * mu + sigma * sigma);\r\n",
      "    return sqrt(a * b); // sqrt of variance\r\n",
      "  }\r\n",
      "}\r\n",
      "data {\r\n",
      "  // notice we use grouped data per outcome value\r\n",
      "  int<lower=0> N; // sum of unique outcomes\r\n",
      "  int<lower=0> J; // number of test groups\r\n",
      "  real<lower=0> y[N]; // observed outcome i.e. revenue\r\n",
      "  int<lower=1> id[N]; // label for each unique outcome\r\n",
      "  int<lower=1> count[N]; // count of each unique outcome\r\n",
      "  real<lower=0> mean_log_y; // mean of log-positive outcomes\r\n",
      "  real<lower=0> sd_log_y; // sd of log-positive outcomes\r\n",
      "}\r\n",
      "parameters {\r\n",
      "  vector<lower=0, upper=1>[J] theta; // chance of success per test group, i.e. conversion rates per test group\r\n",
      "  real<lower=0, upper=1> phi; // overall population chance of success\r\n",
      "  real<lower=1> kappa; // population concentration\r\n",
      "  vector<lower=0>[J] mu; // mu for lognormal distribution per test group\r\n",
      "  vector<lower=0>[J] sigma; // sigma for lognormal distribution per test group\r\n",
      "  real<lower=0> mu_sigma; // scale for mu ~ Normal\r\n",
      "  real<lower=0> sigma_sigma; // scale for sigma ~ Normal\r\n",
      "}\r\n",
      "model {\r\n",
      "  // Priors for Bernoulli(theta):\r\n",
      "  // phi ~ beta(1, 1); // hyperprior (uniform, could drop, change to beta(2,2)?)\r\n",
      "  phi ~ beta(2, 2);\r\n",
      "  kappa ~ pareto(1, 1.5); // hyperprior (requires that kappa > 1st Pareto parameter)\r\n",
      "  theta ~ beta(kappa * phi, kappa * (1 - phi)); // prior\r\n",
      "\r\n",
      "  // Empirical priors for Log-normal(mu, sigma):\r\n",
      "  mu_sigma ~ student_t(4, 0, 1); // hyperprior; param #3 = mean of half-t-dist.\r\n",
      "  sigma_sigma ~ student_t(4, 0, 0.05); // hyperprior\r\n",
      "  mu ~ normal(mean_log_y, mu_sigma);\r\n",
      "  sigma ~ normal(sd_log_y, sigma_sigma);\r\n",
      "\r\n",
      "  // Likelihood log-probability increment:\r\n",
      "  for (n in 1:N) {\r\n",
      "    if (y[n] > 0) {\r\n",
      "      target += count[n] * (bernoulli_lpmf(0 | theta[id[n]]) +\r\n",
      "        lognormal_lpdf(y[n] | mu[id[n]], sigma[id[n]]));\r\n",
      "    } else {\r\n",
      "      target += count[n] * bernoulli_lpmf(1 | theta[id[n]]);\r\n",
      "    }\r\n",
      "  }\r\n",
      "}\r\n",
      "generated quantities {\r\n",
      "  vector[J] revenue_mean;\r\n",
      "  vector[J] revenue_std;\r\n",
      "\r\n",
      "  for (j in 1:J) {\r\n",
      "    revenue_mean[j] = lognormal_mean(mu[j], sigma[j]);\r\n",
      "    revenue_std[j] = lognormal_sd(mu[j], sigma[j]);\r\n",
      "  }\r\n",
      "}\r\n"
     ]
    }
   ],
   "source": [
    "!cat hier2.stan"
   ]
  },
  {
   "cell_type": "code",
   "execution_count": null,
   "metadata": {
    "scrolled": false
   },
   "outputs": [
    {
     "name": "stderr",
     "output_type": "stream",
     "text": [
      "INFO:pystan:COMPILING THE C++ CODE FOR MODEL anon_model_b561a9ce0731c106ec388f0ec224ef0f NOW.\n",
      "INFO:pystan:OS: darwin, Python: 3.6.2 |Anaconda custom (x86_64)| (default, Jul 20 2017, 13:14:59) \n",
      "[GCC 4.2.1 Compatible Apple LLVM 6.0 (clang-600.0.57)], Cython 0.26\n"
     ]
    },
    {
     "name": "stdout",
     "output_type": "stream",
     "text": [
      "Compiling /var/folders/86/339xc0ws0nb5dtltnvzh88dw0000gn/T/tmpcgkgcap3/stanfit4anon_model_b561a9ce0731c106ec388f0ec224ef0f_2235254929254327196.pyx because it changed.\n",
      "[1/1] Cythonizing /var/folders/86/339xc0ws0nb5dtltnvzh88dw0000gn/T/tmpcgkgcap3/stanfit4anon_model_b561a9ce0731c106ec388f0ec224ef0f_2235254929254327196.pyx\n",
      "building 'stanfit4anon_model_b561a9ce0731c106ec388f0ec224ef0f_2235254929254327196' extension\n",
      "creating /var/folders/86/339xc0ws0nb5dtltnvzh88dw0000gn/T/tmpcgkgcap3/var\n",
      "creating /var/folders/86/339xc0ws0nb5dtltnvzh88dw0000gn/T/tmpcgkgcap3/var/folders\n",
      "creating /var/folders/86/339xc0ws0nb5dtltnvzh88dw0000gn/T/tmpcgkgcap3/var/folders/86\n",
      "creating /var/folders/86/339xc0ws0nb5dtltnvzh88dw0000gn/T/tmpcgkgcap3/var/folders/86/339xc0ws0nb5dtltnvzh88dw0000gn\n",
      "creating /var/folders/86/339xc0ws0nb5dtltnvzh88dw0000gn/T/tmpcgkgcap3/var/folders/86/339xc0ws0nb5dtltnvzh88dw0000gn/T\n",
      "creating /var/folders/86/339xc0ws0nb5dtltnvzh88dw0000gn/T/tmpcgkgcap3/var/folders/86/339xc0ws0nb5dtltnvzh88dw0000gn/T/tmpcgkgcap3\n",
      "llvm-gcc -Wno-unused-result -Wsign-compare -Wunreachable-code -DNDEBUG -g -fwrapv -O3 -Wall -Wstrict-prototypes -I/Users/amodig/anaconda/include -I/Users/amodig/anaconda/include -arch x86_64 -DBOOST_RESULT_OF_USE_TR1 -DBOOST_NO_DECLTYPE -DBOOST_DISABLE_ASSERTS -I/var/folders/86/339xc0ws0nb5dtltnvzh88dw0000gn/T/tmpcgkgcap3 -I/Users/amodig/anaconda/lib/python3.6/site-packages/pystan -I/Users/amodig/anaconda/lib/python3.6/site-packages/pystan/stan/src -I/Users/amodig/anaconda/lib/python3.6/site-packages/pystan/stan/lib/stan_math -I/Users/amodig/anaconda/lib/python3.6/site-packages/pystan/stan/lib/stan_math/lib/eigen_3.3.3 -I/Users/amodig/anaconda/lib/python3.6/site-packages/pystan/stan/lib/stan_math/lib/boost_1.62.0 -I/Users/amodig/anaconda/lib/python3.6/site-packages/pystan/stan/lib/stan_math/lib/cvodes_2.9.0/include -I/Users/amodig/anaconda/lib/python3.6/site-packages/numpy/core/include -I/Users/amodig/anaconda/include/python3.6m -c /var/folders/86/339xc0ws0nb5dtltnvzh88dw0000gn/T/tmpcgkgcap3/stanfit4anon_model_b561a9ce0731c106ec388f0ec224ef0f_2235254929254327196.cpp -o /var/folders/86/339xc0ws0nb5dtltnvzh88dw0000gn/T/tmpcgkgcap3/var/folders/86/339xc0ws0nb5dtltnvzh88dw0000gn/T/tmpcgkgcap3/stanfit4anon_model_b561a9ce0731c106ec388f0ec224ef0f_2235254929254327196.o -O2 -ftemplate-depth-256 -Wno-unused-function -Wno-uninitialized\n",
      "g++ -bundle -undefined dynamic_lookup -L/Users/amodig/anaconda/lib -L/Users/amodig/anaconda/lib -arch x86_64 /var/folders/86/339xc0ws0nb5dtltnvzh88dw0000gn/T/tmpcgkgcap3/var/folders/86/339xc0ws0nb5dtltnvzh88dw0000gn/T/tmpcgkgcap3/stanfit4anon_model_b561a9ce0731c106ec388f0ec224ef0f_2235254929254327196.o -L/Users/amodig/anaconda/lib -o /var/folders/86/339xc0ws0nb5dtltnvzh88dw0000gn/T/tmpcgkgcap3/stanfit4anon_model_b561a9ce0731c106ec388f0ec224ef0f_2235254929254327196.cpython-36m-darwin.so\n"
     ]
    }
   ],
   "source": [
    "iterations = 10000\n",
    "chains = 8\n",
    "iterations_total = iterations * chains\n",
    "\n",
    "rev = data['revenue']\n",
    "rev = rev[rev > 0]\n",
    "mean_log_y = np.mean(np.log(rev))\n",
    "sd_log_y = np.std(np.log(rev))\n",
    "\n",
    "model_data = {\"N\": data.shape[0],\n",
    "            \"J\": data['label'].nunique(),\n",
    "            \"y\": data['revenue'].astype(float).values,\n",
    "            \"id\": data['label'].astype(int).values,  # id should start from 1!\n",
    "            \"count\": data['count'].astype(int).values,\n",
    "            \"mean_log_y\": mean_log_y,\n",
    "            \"sd_log_y\": sd_log_y}\n",
    "\n",
    "sm = pystan.StanModel(file=\"hier2.stan\", verbose=True)"
   ]
  },
  {
   "cell_type": "code",
   "execution_count": null,
   "metadata": {
    "collapsed": true
   },
   "outputs": [],
   "source": [
    "# WTF Y U NOT WORK??\n",
    "fit = sm.sampling(data=model_data, iter=iterations, chains=1, n_jobs=1, verbose=True,\n",
    "                  control={'adapt_delta': 0.99, 'max_treedepth': 10})"
   ]
  }
 ],
 "metadata": {
  "kernelspec": {
   "display_name": "Python 3",
   "language": "python",
   "name": "python3"
  },
  "language_info": {
   "codemirror_mode": {
    "name": "ipython",
    "version": 3
   },
   "file_extension": ".py",
   "mimetype": "text/x-python",
   "name": "python",
   "nbconvert_exporter": "python",
   "pygments_lexer": "ipython3",
   "version": "3.6.2"
  }
 },
 "nbformat": 4,
 "nbformat_minor": 2
}
